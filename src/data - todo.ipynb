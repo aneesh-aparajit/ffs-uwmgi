{
 "cells": [
  {
   "cell_type": "markdown",
   "id": "35d0e725",
   "metadata": {},
   "source": [
    "# U-Net on UWMGI"
   ]
  },
  {
   "cell_type": "code",
   "execution_count": 14,
   "id": "51f37acb",
   "metadata": {},
   "outputs": [],
   "source": [
    "import numpy as np\n",
    "import pandas as pd\n",
    "import random\n",
    "from glob import glob\n",
    "import os, shutil\n",
    "import gc\n",
    "from PIL import Image\n",
    "from typing import Dict, List, Tuple, Any, Optional\n",
    "\n",
    "import cv2\n",
    "import matplotlib.pyplot as plt\n",
    "\n",
    "from sklearn.model_selection import KFold, StratifiedKFold\n",
    "\n",
    "import torch\n",
    "import torch.nn as nn\n",
    "import torch.optim as optim\n",
    "from torch.optim import lr_scheduler\n",
    "from torch.utils.data import Dataset, DataLoader\n",
    "\n",
    "import segmentation_models_pytorch as smp\n",
    "import albumentations as A\n",
    "import wandb\n",
    "\n",
    "from colorama import Fore, Back, Style\n",
    "c_  = Fore.GREEN\n",
    "sr_ = Style.RESET_ALL\n",
    "\n",
    "import warnings\n",
    "warnings.filterwarnings(\"ignore\")"
   ]
  },
  {
   "cell_type": "markdown",
   "id": "2178d111",
   "metadata": {},
   "source": [
    "# Config"
   ]
  },
  {
   "cell_type": "code",
   "execution_count": 2,
   "id": "8487889c",
   "metadata": {},
   "outputs": [],
   "source": [
    "class CONFIG:\n",
    "    seed = 42\n",
    "    exp_name      = 'unet-base'\n",
    "    comment       = 'unet-with-efficientnet-b0-base-224x224'\n",
    "    model_name    = 'Unet'\n",
    "    base_model    = 'efficientnet-b0'\n",
    "    train_bs      = 64\n",
    "    valid_bs      = 2 * train_bs\n",
    "    image_size    = [224, 224]\n",
    "    epochs        = 10\n",
    "    scheduler     = 'CosineAnnealingLR'\n",
    "    min_lr        = 1e-6\n",
    "    T_max         = int(30000/train_bs*epochs)+50\n",
    "    T_0           = 25\n",
    "    warmup_epochs = 0\n",
    "    wd            = 1e-6\n",
    "    n_accumulate  = max(1, 32//train_bs)\n",
    "    n_fold        = 5\n",
    "    num_classes   = 3\n",
    "    device        = torch.device(\"cuda:0\" if torch.cuda.is_available() else \"cpu\")"
   ]
  },
  {
   "cell_type": "markdown",
   "id": "b8c9903d",
   "metadata": {},
   "source": [
    "# Reproducibility"
   ]
  },
  {
   "cell_type": "code",
   "execution_count": 3,
   "id": "0dcb950a",
   "metadata": {},
   "outputs": [
    {
     "name": "stdout",
     "output_type": "stream",
     "text": [
      "--- SEEDED ---\n"
     ]
    }
   ],
   "source": [
    "def set_seed(seed: int = 42):\n",
    "    np.random.seed(seed)\n",
    "    random.seed(seed)\n",
    "    torch.manual_seed(seed)\n",
    "    os.environ['PYTHONHASHSEED'] = str(seed)\n",
    "    print('--- SEEDED ---')\n",
    "\n",
    "set_seed(CONFIG.seed)"
   ]
  },
  {
   "cell_type": "markdown",
   "id": "5cf49302",
   "metadata": {},
   "source": [
    "# Untility"
   ]
  },
  {
   "cell_type": "markdown",
   "id": "b4245e8e",
   "metadata": {},
   "source": [
    "## RLE"
   ]
  },
  {
   "cell_type": "code",
   "execution_count": 4,
   "id": "b180dd15",
   "metadata": {},
   "outputs": [],
   "source": [
    "def rle_decode(mask_rle, shape):\n",
    "    '''\n",
    "    Extracted from: https://www.kaggle.com/code/paulorzp/run-length-encode-and-decode/script\n",
    "    \n",
    "    mask_rle: run-length as string formated (start length)\n",
    "    shape: (height,width) of array to return \n",
    "    Returns numpy array, 1 - mask, 0 - background\n",
    "    '''\n",
    "    s = mask_rle.split()\n",
    "    starts, lengths = [np.asarray(x, dtype=int) for x in (s[0:][::2], s[1:][::2])]\n",
    "    starts -= 1\n",
    "    ends = starts + lengths\n",
    "    img = np.zeros(shape[0]*shape[1], dtype=np.uint8)\n",
    "    for lo, hi in zip(starts, ends):\n",
    "        img[lo:hi] = 1\n",
    "    return img.reshape(shape)\n",
    "\n",
    "\n",
    "def rle_encode(img):\n",
    "    '''\n",
    "    Extracted from: https://www.kaggle.com/code/paulorzp/run-length-encode-and-decode/script\n",
    "    \n",
    "    img: numpy array, 1 - mask, 0 - background\n",
    "    Returns run length as string formated\n",
    "    '''\n",
    "    pixels = img.flatten()\n",
    "    pixels = np.concatenate([[0], pixels, [0]])\n",
    "    runs = np.where(pixels[1:] != pixels[:-1])[0] + 1\n",
    "    runs[1::2] -= runs[::2]\n",
    "    return ' '.join(str(x) for x in runs)"
   ]
  },
  {
   "cell_type": "markdown",
   "id": "5981e7f6",
   "metadata": {},
   "source": [
    "## Data"
   ]
  },
  {
   "cell_type": "code",
   "execution_count": 5,
   "id": "b7f19c05",
   "metadata": {},
   "outputs": [
    {
     "data": {
      "text/html": [
       "<div>\n",
       "<style scoped>\n",
       "    .dataframe tbody tr th:only-of-type {\n",
       "        vertical-align: middle;\n",
       "    }\n",
       "\n",
       "    .dataframe tbody tr th {\n",
       "        vertical-align: top;\n",
       "    }\n",
       "\n",
       "    .dataframe thead th {\n",
       "        text-align: right;\n",
       "    }\n",
       "</style>\n",
       "<table border=\"1\" class=\"dataframe\">\n",
       "  <thead>\n",
       "    <tr style=\"text-align: right;\">\n",
       "      <th></th>\n",
       "      <th>id</th>\n",
       "      <th>class</th>\n",
       "      <th>segmentation</th>\n",
       "    </tr>\n",
       "  </thead>\n",
       "  <tbody>\n",
       "    <tr>\n",
       "      <th>0</th>\n",
       "      <td>case123_day20_slice_0001</td>\n",
       "      <td>large_bowel</td>\n",
       "      <td>NaN</td>\n",
       "    </tr>\n",
       "    <tr>\n",
       "      <th>1</th>\n",
       "      <td>case123_day20_slice_0001</td>\n",
       "      <td>small_bowel</td>\n",
       "      <td>NaN</td>\n",
       "    </tr>\n",
       "    <tr>\n",
       "      <th>2</th>\n",
       "      <td>case123_day20_slice_0001</td>\n",
       "      <td>stomach</td>\n",
       "      <td>NaN</td>\n",
       "    </tr>\n",
       "    <tr>\n",
       "      <th>3</th>\n",
       "      <td>case123_day20_slice_0002</td>\n",
       "      <td>large_bowel</td>\n",
       "      <td>NaN</td>\n",
       "    </tr>\n",
       "    <tr>\n",
       "      <th>4</th>\n",
       "      <td>case123_day20_slice_0002</td>\n",
       "      <td>small_bowel</td>\n",
       "      <td>NaN</td>\n",
       "    </tr>\n",
       "    <tr>\n",
       "      <th>5</th>\n",
       "      <td>case123_day20_slice_0002</td>\n",
       "      <td>stomach</td>\n",
       "      <td>NaN</td>\n",
       "    </tr>\n",
       "    <tr>\n",
       "      <th>6</th>\n",
       "      <td>case123_day20_slice_0003</td>\n",
       "      <td>large_bowel</td>\n",
       "      <td>NaN</td>\n",
       "    </tr>\n",
       "    <tr>\n",
       "      <th>7</th>\n",
       "      <td>case123_day20_slice_0003</td>\n",
       "      <td>small_bowel</td>\n",
       "      <td>NaN</td>\n",
       "    </tr>\n",
       "    <tr>\n",
       "      <th>8</th>\n",
       "      <td>case123_day20_slice_0003</td>\n",
       "      <td>stomach</td>\n",
       "      <td>NaN</td>\n",
       "    </tr>\n",
       "    <tr>\n",
       "      <th>9</th>\n",
       "      <td>case123_day20_slice_0004</td>\n",
       "      <td>large_bowel</td>\n",
       "      <td>NaN</td>\n",
       "    </tr>\n",
       "  </tbody>\n",
       "</table>\n",
       "</div>"
      ],
      "text/plain": [
       "                         id        class segmentation\n",
       "0  case123_day20_slice_0001  large_bowel          NaN\n",
       "1  case123_day20_slice_0001  small_bowel          NaN\n",
       "2  case123_day20_slice_0001      stomach          NaN\n",
       "3  case123_day20_slice_0002  large_bowel          NaN\n",
       "4  case123_day20_slice_0002  small_bowel          NaN\n",
       "5  case123_day20_slice_0002      stomach          NaN\n",
       "6  case123_day20_slice_0003  large_bowel          NaN\n",
       "7  case123_day20_slice_0003  small_bowel          NaN\n",
       "8  case123_day20_slice_0003      stomach          NaN\n",
       "9  case123_day20_slice_0004  large_bowel          NaN"
      ]
     },
     "execution_count": 5,
     "metadata": {},
     "output_type": "execute_result"
    }
   ],
   "source": [
    "df = pd.read_csv('../data/uw-madison-gi-tract-image-segmentation/train.csv')\n",
    "df.head(10)"
   ]
  },
  {
   "cell_type": "code",
   "execution_count": 6,
   "id": "db884df9",
   "metadata": {},
   "outputs": [
    {
     "data": {
      "text/html": [
       "<div>\n",
       "<style scoped>\n",
       "    .dataframe tbody tr th:only-of-type {\n",
       "        vertical-align: middle;\n",
       "    }\n",
       "\n",
       "    .dataframe tbody tr th {\n",
       "        vertical-align: top;\n",
       "    }\n",
       "\n",
       "    .dataframe thead th {\n",
       "        text-align: right;\n",
       "    }\n",
       "</style>\n",
       "<table border=\"1\" class=\"dataframe\">\n",
       "  <thead>\n",
       "    <tr style=\"text-align: right;\">\n",
       "      <th></th>\n",
       "      <th>id</th>\n",
       "      <th>class</th>\n",
       "      <th>segmentation</th>\n",
       "    </tr>\n",
       "  </thead>\n",
       "  <tbody>\n",
       "    <tr>\n",
       "      <th>0</th>\n",
       "      <td>case123_day20_slice_0001</td>\n",
       "      <td>large_bowel</td>\n",
       "      <td></td>\n",
       "    </tr>\n",
       "    <tr>\n",
       "      <th>1</th>\n",
       "      <td>case123_day20_slice_0001</td>\n",
       "      <td>small_bowel</td>\n",
       "      <td></td>\n",
       "    </tr>\n",
       "    <tr>\n",
       "      <th>2</th>\n",
       "      <td>case123_day20_slice_0001</td>\n",
       "      <td>stomach</td>\n",
       "      <td></td>\n",
       "    </tr>\n",
       "    <tr>\n",
       "      <th>3</th>\n",
       "      <td>case123_day20_slice_0002</td>\n",
       "      <td>large_bowel</td>\n",
       "      <td></td>\n",
       "    </tr>\n",
       "    <tr>\n",
       "      <th>4</th>\n",
       "      <td>case123_day20_slice_0002</td>\n",
       "      <td>small_bowel</td>\n",
       "      <td></td>\n",
       "    </tr>\n",
       "    <tr>\n",
       "      <th>5</th>\n",
       "      <td>case123_day20_slice_0002</td>\n",
       "      <td>stomach</td>\n",
       "      <td></td>\n",
       "    </tr>\n",
       "    <tr>\n",
       "      <th>6</th>\n",
       "      <td>case123_day20_slice_0003</td>\n",
       "      <td>large_bowel</td>\n",
       "      <td></td>\n",
       "    </tr>\n",
       "    <tr>\n",
       "      <th>7</th>\n",
       "      <td>case123_day20_slice_0003</td>\n",
       "      <td>small_bowel</td>\n",
       "      <td></td>\n",
       "    </tr>\n",
       "    <tr>\n",
       "      <th>8</th>\n",
       "      <td>case123_day20_slice_0003</td>\n",
       "      <td>stomach</td>\n",
       "      <td></td>\n",
       "    </tr>\n",
       "    <tr>\n",
       "      <th>9</th>\n",
       "      <td>case123_day20_slice_0004</td>\n",
       "      <td>large_bowel</td>\n",
       "      <td></td>\n",
       "    </tr>\n",
       "  </tbody>\n",
       "</table>\n",
       "</div>"
      ],
      "text/plain": [
       "                         id        class segmentation\n",
       "0  case123_day20_slice_0001  large_bowel             \n",
       "1  case123_day20_slice_0001  small_bowel             \n",
       "2  case123_day20_slice_0001      stomach             \n",
       "3  case123_day20_slice_0002  large_bowel             \n",
       "4  case123_day20_slice_0002  small_bowel             \n",
       "5  case123_day20_slice_0002      stomach             \n",
       "6  case123_day20_slice_0003  large_bowel             \n",
       "7  case123_day20_slice_0003  small_bowel             \n",
       "8  case123_day20_slice_0003      stomach             \n",
       "9  case123_day20_slice_0004  large_bowel             "
      ]
     },
     "execution_count": 6,
     "metadata": {},
     "output_type": "execute_result"
    }
   ],
   "source": [
    "df['segmentation'].fillna('', inplace=True)\n",
    "# df['segmentation'] = df['segmentation'].apply(lambda x: x.split(' '))\n",
    "df.head(10)"
   ]
  },
  {
   "cell_type": "code",
   "execution_count": 7,
   "id": "34bc68ba",
   "metadata": {},
   "outputs": [],
   "source": [
    "df['path'] = ''"
   ]
  },
  {
   "cell_type": "code",
   "execution_count": 21,
   "id": "71ba7d14",
   "metadata": {},
   "outputs": [],
   "source": [
    "def get_path(x):\n",
    "    case = x.split('_')[0]\n",
    "    day = x.split('_')[1]\n",
    "    _slice = x.split('_')[2] + '_' + x.split('_')[3]\n",
    "    paths = glob(f'../data/uw-madison-gi-tract-image-segmentation/train/{case}/{case}_{day}/scans/{_slice}*')\n",
    "    path = paths[0]\n",
    "    image_sizes = path.split('/')[-1].split('_')[2:4]\n",
    "    image_sizes = [int(x) for x in image_sizes]\n",
    "    return path, image_sizes"
   ]
  },
  {
   "cell_type": "code",
   "execution_count": 22,
   "id": "173f2242",
   "metadata": {},
   "outputs": [
    {
     "data": {
      "text/plain": [
       "('../data/uw-madison-gi-tract-image-segmentation/train/case123/case123_day20/scans/slice_0001_266_266_1.50_1.50.png',\n",
       " [266, 266])"
      ]
     },
     "execution_count": 22,
     "metadata": {},
     "output_type": "execute_result"
    }
   ],
   "source": [
    "get_path('case123_day20_slice_0001')"
   ]
  },
  {
   "cell_type": "code",
   "execution_count": 26,
   "id": "e2a872bc",
   "metadata": {},
   "outputs": [],
   "source": [
    "def process_df(df: pd.DataFrame):\n",
    "    df['case'] = df['id'].apply(lambda x: x.split('_')[0])\n",
    "    df['day'] = df['id'].apply(lambda x: x.split('_')[1])\n",
    "    df['slice'] = df['id'].apply(lambda x: x.split('_')[2] + '_' + x.split('_')[3])\n",
    "    df['path'] = df['id'].apply(lambda x: get_path(x)[0])\n",
    "    df['height'] = df['id'].apply(lambda x: get_path(x)[1][0])\n",
    "    df['width'] = df['id'].apply(lambda x: get_path(x)[1][1])\n",
    "    return df"
   ]
  },
  {
   "cell_type": "code",
   "execution_count": 27,
   "id": "ec3f8e85",
   "metadata": {},
   "outputs": [
    {
     "data": {
      "image/png": "[encoded data removed]",
      "text/plain": [
       "<Figure size 640x480 with 1 Axes>"
      ]
     },
     "metadata": {},
     "output_type": "display_data"
    }
   ],
   "source": [
    "mask = np.zeros((266, 266, 3))\n",
    "dfs = df[df['id'] == 'case123_day20_slice_0090']\n",
    "\n",
    "for ix, classes in enumerate(['large_bowel', 'small_bowel', 'stomach']):\n",
    "    rle = dfs[dfs['class'] == classes]['segmentation'].squeeze()\n",
    "    mask[..., ix] = rle_decode(rle, shape=(266, 266))\n",
    "\n",
    "plt.imshow(mask);"
   ]
  },
  {
   "cell_type": "markdown",
   "id": "44002b39",
   "metadata": {},
   "source": [
    "# Dataset"
   ]
  },
  {
   "cell_type": "code",
   "execution_count": 28,
   "id": "8960d26d",
   "metadata": {},
   "outputs": [
    {
     "data": {
      "text/html": [
       "<div>\n",
       "<style scoped>\n",
       "    .dataframe tbody tr th:only-of-type {\n",
       "        vertical-align: middle;\n",
       "    }\n",
       "\n",
       "    .dataframe tbody tr th {\n",
       "        vertical-align: top;\n",
       "    }\n",
       "\n",
       "    .dataframe thead th {\n",
       "        text-align: right;\n",
       "    }\n",
       "</style>\n",
       "<table border=\"1\" class=\"dataframe\">\n",
       "  <thead>\n",
       "    <tr style=\"text-align: right;\">\n",
       "      <th></th>\n",
       "      <th>id</th>\n",
       "      <th>class</th>\n",
       "      <th>segmentation</th>\n",
       "      <th>path</th>\n",
       "      <th>case</th>\n",
       "      <th>day</th>\n",
       "      <th>slice</th>\n",
       "      <th>height</th>\n",
       "      <th>width</th>\n",
       "    </tr>\n",
       "  </thead>\n",
       "  <tbody>\n",
       "    <tr>\n",
       "      <th>0</th>\n",
       "      <td>case123_day20_slice_0001</td>\n",
       "      <td>large_bowel</td>\n",
       "      <td></td>\n",
       "      <td>../data/uw-madison-gi-tract-image-segmentation...</td>\n",
       "      <td>case123</td>\n",
       "      <td>day20</td>\n",
       "      <td>slice_0001</td>\n",
       "      <td>266</td>\n",
       "      <td>266</td>\n",
       "    </tr>\n",
       "    <tr>\n",
       "      <th>1</th>\n",
       "      <td>case123_day20_slice_0001</td>\n",
       "      <td>small_bowel</td>\n",
       "      <td></td>\n",
       "      <td>../data/uw-madison-gi-tract-image-segmentation...</td>\n",
       "      <td>case123</td>\n",
       "      <td>day20</td>\n",
       "      <td>slice_0001</td>\n",
       "      <td>266</td>\n",
       "      <td>266</td>\n",
       "    </tr>\n",
       "    <tr>\n",
       "      <th>2</th>\n",
       "      <td>case123_day20_slice_0001</td>\n",
       "      <td>stomach</td>\n",
       "      <td></td>\n",
       "      <td>../data/uw-madison-gi-tract-image-segmentation...</td>\n",
       "      <td>case123</td>\n",
       "      <td>day20</td>\n",
       "      <td>slice_0001</td>\n",
       "      <td>266</td>\n",
       "      <td>266</td>\n",
       "    </tr>\n",
       "    <tr>\n",
       "      <th>3</th>\n",
       "      <td>case123_day20_slice_0002</td>\n",
       "      <td>large_bowel</td>\n",
       "      <td></td>\n",
       "      <td>../data/uw-madison-gi-tract-image-segmentation...</td>\n",
       "      <td>case123</td>\n",
       "      <td>day20</td>\n",
       "      <td>slice_0002</td>\n",
       "      <td>266</td>\n",
       "      <td>266</td>\n",
       "    </tr>\n",
       "    <tr>\n",
       "      <th>4</th>\n",
       "      <td>case123_day20_slice_0002</td>\n",
       "      <td>small_bowel</td>\n",
       "      <td></td>\n",
       "      <td>../data/uw-madison-gi-tract-image-segmentation...</td>\n",
       "      <td>case123</td>\n",
       "      <td>day20</td>\n",
       "      <td>slice_0002</td>\n",
       "      <td>266</td>\n",
       "      <td>266</td>\n",
       "    </tr>\n",
       "    <tr>\n",
       "      <th>...</th>\n",
       "      <td>...</td>\n",
       "      <td>...</td>\n",
       "      <td>...</td>\n",
       "      <td>...</td>\n",
       "      <td>...</td>\n",
       "      <td>...</td>\n",
       "      <td>...</td>\n",
       "      <td>...</td>\n",
       "      <td>...</td>\n",
       "    </tr>\n",
       "    <tr>\n",
       "      <th>115483</th>\n",
       "      <td>case30_day0_slice_0143</td>\n",
       "      <td>small_bowel</td>\n",
       "      <td></td>\n",
       "      <td>../data/uw-madison-gi-tract-image-segmentation...</td>\n",
       "      <td>case30</td>\n",
       "      <td>day0</td>\n",
       "      <td>slice_0143</td>\n",
       "      <td>266</td>\n",
       "      <td>266</td>\n",
       "    </tr>\n",
       "    <tr>\n",
       "      <th>115484</th>\n",
       "      <td>case30_day0_slice_0143</td>\n",
       "      <td>stomach</td>\n",
       "      <td></td>\n",
       "      <td>../data/uw-madison-gi-tract-image-segmentation...</td>\n",
       "      <td>case30</td>\n",
       "      <td>day0</td>\n",
       "      <td>slice_0143</td>\n",
       "      <td>266</td>\n",
       "      <td>266</td>\n",
       "    </tr>\n",
       "    <tr>\n",
       "      <th>115485</th>\n",
       "      <td>case30_day0_slice_0144</td>\n",
       "      <td>large_bowel</td>\n",
       "      <td></td>\n",
       "      <td>../data/uw-madison-gi-tract-image-segmentation...</td>\n",
       "      <td>case30</td>\n",
       "      <td>day0</td>\n",
       "      <td>slice_0144</td>\n",
       "      <td>266</td>\n",
       "      <td>266</td>\n",
       "    </tr>\n",
       "    <tr>\n",
       "      <th>115486</th>\n",
       "      <td>case30_day0_slice_0144</td>\n",
       "      <td>small_bowel</td>\n",
       "      <td></td>\n",
       "      <td>../data/uw-madison-gi-tract-image-segmentation...</td>\n",
       "      <td>case30</td>\n",
       "      <td>day0</td>\n",
       "      <td>slice_0144</td>\n",
       "      <td>266</td>\n",
       "      <td>266</td>\n",
       "    </tr>\n",
       "    <tr>\n",
       "      <th>115487</th>\n",
       "      <td>case30_day0_slice_0144</td>\n",
       "      <td>stomach</td>\n",
       "      <td></td>\n",
       "      <td>../data/uw-madison-gi-tract-image-segmentation...</td>\n",
       "      <td>case30</td>\n",
       "      <td>day0</td>\n",
       "      <td>slice_0144</td>\n",
       "      <td>266</td>\n",
       "      <td>266</td>\n",
       "    </tr>\n",
       "  </tbody>\n",
       "</table>\n",
       "<p>115488 rows × 9 columns</p>\n",
       "</div>"
      ],
      "text/plain": [
       "                              id        class segmentation  \\\n",
       "0       case123_day20_slice_0001  large_bowel                \n",
       "1       case123_day20_slice_0001  small_bowel                \n",
       "2       case123_day20_slice_0001      stomach                \n",
       "3       case123_day20_slice_0002  large_bowel                \n",
       "4       case123_day20_slice_0002  small_bowel                \n",
       "...                          ...          ...          ...   \n",
       "115483    case30_day0_slice_0143  small_bowel                \n",
       "115484    case30_day0_slice_0143      stomach                \n",
       "115485    case30_day0_slice_0144  large_bowel                \n",
       "115486    case30_day0_slice_0144  small_bowel                \n",
       "115487    case30_day0_slice_0144      stomach                \n",
       "\n",
       "                                                     path     case    day  \\\n",
       "0       ../data/uw-madison-gi-tract-image-segmentation...  case123  day20   \n",
       "1       ../data/uw-madison-gi-tract-image-segmentation...  case123  day20   \n",
       "2       ../data/uw-madison-gi-tract-image-segmentation...  case123  day20   \n",
       "3       ../data/uw-madison-gi-tract-image-segmentation...  case123  day20   \n",
       "4       ../data/uw-madison-gi-tract-image-segmentation...  case123  day20   \n",
       "...                                                   ...      ...    ...   \n",
       "115483  ../data/uw-madison-gi-tract-image-segmentation...   case30   day0   \n",
       "115484  ../data/uw-madison-gi-tract-image-segmentation...   case30   day0   \n",
       "115485  ../data/uw-madison-gi-tract-image-segmentation...   case30   day0   \n",
       "115486  ../data/uw-madison-gi-tract-image-segmentation...   case30   day0   \n",
       "115487  ../data/uw-madison-gi-tract-image-segmentation...   case30   day0   \n",
       "\n",
       "             slice  height  width  \n",
       "0       slice_0001     266    266  \n",
       "1       slice_0001     266    266  \n",
       "2       slice_0001     266    266  \n",
       "3       slice_0002     266    266  \n",
       "4       slice_0002     266    266  \n",
       "...            ...     ...    ...  \n",
       "115483  slice_0143     266    266  \n",
       "115484  slice_0143     266    266  \n",
       "115485  slice_0144     266    266  \n",
       "115486  slice_0144     266    266  \n",
       "115487  slice_0144     266    266  \n",
       "\n",
       "[115488 rows x 9 columns]"
      ]
     },
     "execution_count": 28,
     "metadata": {},
     "output_type": "execute_result"
    }
   ],
   "source": [
    "df = process_df(df)\n",
    "df"
   ]
  },
  {
   "cell_type": "code",
   "execution_count": 30,
   "id": "422d4844",
   "metadata": {},
   "outputs": [],
   "source": [
    "ids = df['id'].unique()"
   ]
  },
  {
   "cell_type": "code",
   "execution_count": 32,
   "id": "941708b6",
   "metadata": {},
   "outputs": [
    {
     "data": {
      "text/plain": [
       "38496"
      ]
     },
     "execution_count": 32,
     "metadata": {},
     "output_type": "execute_result"
    }
   ],
   "source": [
    "len(ids)"
   ]
  },
  {
   "cell_type": "code",
   "execution_count": 36,
   "id": "654d808a",
   "metadata": {},
   "outputs": [],
   "source": [
    "_id = ids[1]"
   ]
  },
  {
   "cell_type": "code",
   "execution_count": 37,
   "id": "cdd24eda",
   "metadata": {},
   "outputs": [
    {
     "data": {
      "text/plain": [
       "'case123_day20_slice_0002'"
      ]
     },
     "execution_count": 37,
     "metadata": {},
     "output_type": "execute_result"
    }
   ],
   "source": [
    "_id"
   ]
  },
  {
   "cell_type": "code",
   "execution_count": 40,
   "id": "8395478a",
   "metadata": {
    "scrolled": true
   },
   "outputs": [
    {
     "data": {
      "text/html": [
       "<div>\n",
       "<style scoped>\n",
       "    .dataframe tbody tr th:only-of-type {\n",
       "        vertical-align: middle;\n",
       "    }\n",
       "\n",
       "    .dataframe tbody tr th {\n",
       "        vertical-align: top;\n",
       "    }\n",
       "\n",
       "    .dataframe thead th {\n",
       "        text-align: right;\n",
       "    }\n",
       "</style>\n",
       "<table border=\"1\" class=\"dataframe\">\n",
       "  <thead>\n",
       "    <tr style=\"text-align: right;\">\n",
       "      <th></th>\n",
       "      <th>id</th>\n",
       "      <th>class</th>\n",
       "      <th>segmentation</th>\n",
       "      <th>path</th>\n",
       "      <th>case</th>\n",
       "      <th>day</th>\n",
       "      <th>slice</th>\n",
       "      <th>height</th>\n",
       "      <th>width</th>\n",
       "    </tr>\n",
       "  </thead>\n",
       "  <tbody>\n",
       "    <tr>\n",
       "      <th>0</th>\n",
       "      <td>case123_day20_slice_0002</td>\n",
       "      <td>large_bowel</td>\n",
       "      <td></td>\n",
       "      <td>../data/uw-madison-gi-tract-image-segmentation...</td>\n",
       "      <td>case123</td>\n",
       "      <td>day20</td>\n",
       "      <td>slice_0002</td>\n",
       "      <td>266</td>\n",
       "      <td>266</td>\n",
       "    </tr>\n",
       "    <tr>\n",
       "      <th>1</th>\n",
       "      <td>case123_day20_slice_0002</td>\n",
       "      <td>small_bowel</td>\n",
       "      <td></td>\n",
       "      <td>../data/uw-madison-gi-tract-image-segmentation...</td>\n",
       "      <td>case123</td>\n",
       "      <td>day20</td>\n",
       "      <td>slice_0002</td>\n",
       "      <td>266</td>\n",
       "      <td>266</td>\n",
       "    </tr>\n",
       "    <tr>\n",
       "      <th>2</th>\n",
       "      <td>case123_day20_slice_0002</td>\n",
       "      <td>stomach</td>\n",
       "      <td></td>\n",
       "      <td>../data/uw-madison-gi-tract-image-segmentation...</td>\n",
       "      <td>case123</td>\n",
       "      <td>day20</td>\n",
       "      <td>slice_0002</td>\n",
       "      <td>266</td>\n",
       "      <td>266</td>\n",
       "    </tr>\n",
       "  </tbody>\n",
       "</table>\n",
       "</div>"
      ],
      "text/plain": [
       "                         id        class segmentation  \\\n",
       "0  case123_day20_slice_0002  large_bowel                \n",
       "1  case123_day20_slice_0002  small_bowel                \n",
       "2  case123_day20_slice_0002      stomach                \n",
       "\n",
       "                                                path     case    day  \\\n",
       "0  ../data/uw-madison-gi-tract-image-segmentation...  case123  day20   \n",
       "1  ../data/uw-madison-gi-tract-image-segmentation...  case123  day20   \n",
       "2  ../data/uw-madison-gi-tract-image-segmentation...  case123  day20   \n",
       "\n",
       "        slice  height  width  \n",
       "0  slice_0002     266    266  \n",
       "1  slice_0002     266    266  \n",
       "2  slice_0002     266    266  "
      ]
     },
     "execution_count": 40,
     "metadata": {},
     "output_type": "execute_result"
    }
   ],
   "source": [
    "df[df['id'] == _id].reset_index(drop=True)"
   ]
  },
  {
   "cell_type": "code",
   "execution_count": 43,
   "id": "5ef77abb",
   "metadata": {},
   "outputs": [
    {
     "data": {
      "text/plain": [
       "['..',\n",
       " 'data',\n",
       " 'uw-madison-gi-tract-image-segmentation',\n",
       " 'train',\n",
       " 'case123',\n",
       " 'case123_day20',\n",
       " 'scans',\n",
       " 'slice_0002_266_266_1.50_1.50.png']"
      ]
     },
     "execution_count": 43,
     "metadata": {},
     "output_type": "execute_result"
    }
   ],
   "source": [
    "df[df['id'] == _id].reset_index(drop=True).iloc[0]['path'].split('/')"
   ]
  },
  {
   "cell_type": "code",
   "execution_count": 44,
   "id": "930b56f0",
   "metadata": {},
   "outputs": [],
   "source": [
    "BASE_PATH = '../data/processed-v1/train/'"
   ]
  },
  {
   "cell_type": "code",
   "execution_count": null,
   "id": "50661585",
   "metadata": {},
   "outputs": [],
   "source": [
    "for _id in tqdm(ids):\n",
    "    dfs = df[df['id'] == _id].reset_index(drop=True)\n",
    "    height = dfs.iloc[0]['height']\n",
    "    width = dfs.iloc[0]['width']\n",
    "    case = dfs.iloc[0]['case']\n",
    "    day = dfs.iloc[0]['day']\n",
    "    \n",
    "    mask = np.zeros(shape=(height, width, 3))\n",
    "    \n",
    "    for ix, classes in enumerate(['large_bowel', 'small_bowel', 'stomach']):\n",
    "        rle = dfs[dfs['class'] == classes]['segmentation'].squeeze()\n",
    "        mask[..., ix] = rle_decode(mask_rle=rle, shape=[height, width])\n",
    "        \n",
    "    \n",
    "    plt.imsave(f'../data/processed-v1/train/{}', mask)\n",
    "        "
   ]
  },
  {
   "cell_type": "code",
   "execution_count": 46,
   "id": "afc1973b",
   "metadata": {},
   "outputs": [],
   "source": [
    "df.to_csv('../data/processed-v1/train.csv')"
   ]
  }
 ],
 "metadata": {
  "kernelspec": {
   "display_name": "Python 3.9 (torch)",
   "language": "python",
   "name": "torch-env"
  },
  "language_info": {
   "codemirror_mode": {
    "name": "ipython",
    "version": 3
   },
   "file_extension": ".py",
   "mimetype": "text/x-python",
   "name": "python",
   "nbconvert_exporter": "python",
   "pygments_lexer": "ipython3",
   "version": "3.10.8"
  },
  "toc": {
   "base_numbering": 1,
   "nav_menu": {},
   "number_sections": true,
   "sideBar": true,
   "skip_h1_title": false,
   "title_cell": "Table of Contents",
   "title_sidebar": "Contents",
   "toc_cell": false,
   "toc_position": {},
   "toc_section_display": true,
   "toc_window_display": false
  }
 },
 "nbformat": 4,
 "nbformat_minor": 5
}
